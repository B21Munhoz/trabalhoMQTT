{
 "cells": [
  {
   "cell_type": "code",
   "execution_count": 1,
   "metadata": {},
   "outputs": [
    {
     "name": "stdout",
     "output_type": "stream",
     "text": [
      "IP do Broker: localhost\n",
      "Comandos:\n",
      "bye - desliga os subscribers\n",
      "temp - inicia sensoriamento de temperatura\n",
      "pres - inicia sensoriamento de pressao\n",
      "Entrada: temp\n",
      "Comandos:\n",
      "bye - desliga os subscribers\n",
      "temp - inicia sensoriamento de temperatura\n",
      "pres - inicia sensoriamento de pressao\n",
      "Entrada: pres\n",
      "Comandos:\n",
      "bye - desliga os subscribers\n",
      "temp - inicia sensoriamento de temperatura\n",
      "pres - inicia sensoriamento de pressao\n",
      "Entrada: bye\n"
     ]
    }
   ],
   "source": [
    "import paho.mqtt.client as mqtt\n",
    "import time\n",
    "\n",
    "client = mqtt.Client()\n",
    "loop = True\n",
    "broker = input(\"IP do Broker: \")\n",
    "\n",
    "while(loop):\n",
    "    print(\"Comandos:\")\n",
    "    print(\"bye - desliga os subscribers\")\n",
    "    print(\"temp - inicia sensoriamento de temperatura\")\n",
    "    print(\"pres - inicia sensoriamento de pressao\")\n",
    "    message = input(\"Entrada: \")\n",
    "\n",
    "    if (message == \"temp\"):\n",
    "        i = 10\n",
    "        client.connect(broker,1883,60)\n",
    "        while(i > 0):\n",
    "            client.publish(\"topic/temperatura\", \"Temperatura: 25°C\")\n",
    "            time.sleep(5)\n",
    "            i = i-1\n",
    "        client.disconnect()\n",
    "        \n",
    "    if (message == \"pres\"):\n",
    "        i = 10\n",
    "        client.connect(broker,1883,60)\n",
    "        while(i > 0):\n",
    "            client.publish(\"topic/pressao\", \"Pressão: 1 atm\")\n",
    "            time.sleep(5)\n",
    "            i = i-1\n",
    "        client.disconnect()\n",
    "\n",
    "    elif (message == \"bye\"):\n",
    "        client.connect(broker,1883,60)\n",
    "        client.publish(\"topic/temperatura\", \"bye\")\n",
    "        client.publish(\"topic/pressao\", \"bye\")\n",
    "        client.disconnect()\n",
    "        loop = False\n"
   ]
  },
  {
   "cell_type": "code",
   "execution_count": null,
   "metadata": {},
   "outputs": [],
   "source": []
  },
  {
   "cell_type": "code",
   "execution_count": null,
   "metadata": {},
   "outputs": [],
   "source": []
  }
 ],
 "metadata": {
  "kernelspec": {
   "display_name": "Python 3",
   "language": "python",
   "name": "python3"
  },
  "language_info": {
   "codemirror_mode": {
    "name": "ipython",
    "version": 3
   },
   "file_extension": ".py",
   "mimetype": "text/x-python",
   "name": "python",
   "nbconvert_exporter": "python",
   "pygments_lexer": "ipython3",
   "version": "3.6.6"
  }
 },
 "nbformat": 4,
 "nbformat_minor": 2
}
