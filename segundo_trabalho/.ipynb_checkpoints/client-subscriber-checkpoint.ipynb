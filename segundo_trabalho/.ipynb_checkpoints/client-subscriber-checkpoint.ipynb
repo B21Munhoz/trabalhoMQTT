{
 "cells": [
  {
   "cell_type": "code",
   "execution_count": 1,
   "metadata": {},
   "outputs": [
    {
     "name": "stdout",
     "output_type": "stream",
     "text": [
      "IP do Broker: localhost\n",
      "Topics:\n",
      "temperatura\n",
      "pressao\n",
      "all\n",
      "Entrada: all\n",
      "Conectado! Código: 0\n",
      "Temperatura: 25°C\n",
      "Temperatura: 25°C\n",
      "Temperatura: 25°C\n",
      "Temperatura: 25°C\n",
      "Temperatura: 25°C\n",
      "Temperatura: 25°C\n",
      "Temperatura: 25°C\n",
      "Temperatura: 25°C\n",
      "Temperatura: 25°C\n",
      "Temperatura: 25°C\n",
      "Pressão: 1 atm\n",
      "Pressão: 1 atm\n",
      "Pressão: 1 atm\n",
      "Pressão: 1 atm\n",
      "Pressão: 1 atm\n",
      "Pressão: 1 atm\n",
      "Pressão: 1 atm\n",
      "Pressão: 1 atm\n",
      "Pressão: 1 atm\n",
      "Pressão: 1 atm\n",
      "bye\n",
      "Desconectando\n"
     ]
    },
    {
     "data": {
      "text/plain": [
       "7"
      ]
     },
     "execution_count": 1,
     "metadata": {},
     "output_type": "execute_result"
    }
   ],
   "source": [
    "import paho.mqtt.client as mqtt\n",
    "\n",
    "broker = input(\"IP do Broker: \")\n",
    "print(\"Topics:\")\n",
    "print(\"temperatura\")\n",
    "print(\"pressao\")\n",
    "print(\"all\")\n",
    "message = input(\"Entrada: \")\n",
    "\n",
    "def on_connect(client, userdata, flags, rc):\n",
    "    print(\"Conectado! Código: \"+str(rc))\n",
    "    print(\"Tópico Escolhido: \"+message)\n",
    "    if (message == \"temperatura\"):\n",
    "        print(\"(topic/temperatura)\")\n",
    "        client.subscribe(\"topic/temperatura\")\n",
    "    \n",
    "    elif (message == \"pressao\"):\n",
    "        print(\"(topic/pressao)\")\n",
    "        client.subscribe(\"topic/pressao\")\n",
    "        \n",
    "    elif (message == \"all\"):\n",
    "        print(\"(topic/#)\")\n",
    "        client.subscribe(\"topic/#\")\n",
    "    \n",
    "    else:\n",
    "        print(\"Nenhum topic com esse nome encontrado!\")\n",
    "        print(\"Desconectando\")\n",
    "        client.disconnect()\n",
    "        \n",
    "\n",
    "def on_message(client, userdata, msg):\n",
    "    print(msg.payload.decode())\n",
    "    if msg.payload.decode() == \"bye\":\n",
    "        print(\"Desconectando\")\n",
    "        client.disconnect()\n",
    "    \n",
    "    \n",
    "client = mqtt.Client()\n",
    "client.connect(broker,1883,60)\n",
    "\n",
    "client.on_connect = on_connect\n",
    "client.on_message = on_message\n",
    "\n",
    "client.loop_forever()"
   ]
  },
  {
   "cell_type": "code",
   "execution_count": null,
   "metadata": {},
   "outputs": [],
   "source": []
  }
 ],
 "metadata": {
  "kernelspec": {
   "display_name": "Python 3",
   "language": "python",
   "name": "python3"
  },
  "language_info": {
   "codemirror_mode": {
    "name": "ipython",
    "version": 3
   },
   "file_extension": ".py",
   "mimetype": "text/x-python",
   "name": "python",
   "nbconvert_exporter": "python",
   "pygments_lexer": "ipython3",
   "version": "3.6.6"
  }
 },
 "nbformat": 4,
 "nbformat_minor": 2
}
